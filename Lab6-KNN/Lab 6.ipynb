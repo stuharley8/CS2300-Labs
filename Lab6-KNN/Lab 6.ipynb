{
 "cells": [
  {
   "cell_type": "markdown",
   "metadata": {},
   "source": [
    "# Lab 6: K-Nearest Neighbors\n",
    "\n",
    "## Stuart Harley"
   ]
  },
  {
   "cell_type": "markdown",
   "metadata": {},
   "source": [
    "### Introduction\n",
    "\n",
    "kNN was one of the earliest machine learning algorithms, and while it is not widely used outside of recommendation systems (collaborative filtering) these days, it is a good introduction to the process of machine learning.\n",
    "\n",
    "In this notebook I implement the k-nearest neighbors (kNN) algorithm for classification as a Python class using both loops and built in Numpy functionality. I then apply my implementation to some flower data to analyze the performance differences between loops and Numpy vectorized operations.\n",
    "\n",
    "### Learning Outcomes\n",
    "- kNN algorithm implementation with loops and Numpy\n",
    "- Basic Machine Learning model and training structuring\n",
    "- Using scipy and documentation to implement functionality\n",
    "- Splitting data into training and testing sets\n",
    "- Analysis of data and model generated from the data"
   ]
  },
  {
   "cell_type": "markdown",
   "metadata": {},
   "source": [
    "**Importing Libraries**"
   ]
  },
  {
   "cell_type": "code",
   "execution_count": 1,
   "metadata": {},
   "outputs": [],
   "source": [
    "from sklearn.datasets import load_iris\n",
    "import matplotlib.pyplot as plt\n",
    "import pandas as pd\n",
    "import time\n",
    "\n",
    "from knn import KNN\n",
    "from test_knn import *"
   ]
  },
  {
   "cell_type": "markdown",
   "metadata": {},
   "source": [
    "**Using Matplotlib to make a scatter plot of Sepal Width v. Sepal Length**"
   ]
  },
  {
   "cell_type": "code",
   "execution_count": 2,
   "metadata": {},
   "outputs": [
    {
     "data": {
      "text/plain": [
       "(1.5, 4.9)"
      ]
     },
     "execution_count": 2,
     "metadata": {},
     "output_type": "execute_result"
    },
    {
     "data": {
      "image/png": "[encoded data removed]",
      "text/plain": [
       "<Figure size 576x432 with 1 Axes>"
      ]
     },
     "metadata": {
      "needs_background": "light"
     },
     "output_type": "display_data"
    }
   ],
   "source": [
    "iris = load_iris()\n",
    "x = iris.data[:,0]\n",
    "y = iris.data[:,1]\n",
    "x_setosa = x[0:50]\n",
    "y_setosa = y[0:50]\n",
    "x_versicolor = x[50:100]\n",
    "y_versicolor = y[50:100]\n",
    "x_virginica = x[100:150]\n",
    "y_virginica = y[100:150]\n",
    "\n",
    "plt.figure(2, figsize=(8, 6))\n",
    "plt.clf()\n",
    "\n",
    "plt.scatter(x_setosa, y_setosa, label=\"Setosa\", color='g')\n",
    "plt.scatter(x_versicolor, y_versicolor, label=\"Versicolor\", color='r')\n",
    "plt.scatter(x_virginica, y_virginica, label=\"Virginica\", color='b')\n",
    "plt.xlabel('Sepal Length (cm)', fontsize=14)\n",
    "plt.ylabel('Sepal Width (cm)', fontsize=14)\n",
    "plt.title('Sepal Width v. Sepal Length', fontsize=20)\n",
    "plt.legend(loc=1)\n",
    "\n",
    "plt.xlim(3.8, 8.4)\n",
    "plt.ylim(1.5, 4.9)"
   ]
  },
  {
   "cell_type": "markdown",
   "metadata": {},
   "source": [
    "**Testing**: The following cell runs the tests from the test_knn class. The test_iris_classification tests should fail because there are points in the iris data set that are different flowers but have the same sepal length and width which causes classification errors."
   ]
  },
  {
   "cell_type": "code",
   "execution_count": 3,
   "metadata": {},
   "outputs": [
    {
     "name": "stderr",
     "output_type": "stream",
     "text": [
      "test_blob_classification_loop (test_knn.TestKNN) ... ok\n",
      "test_blob_classification_numpy (test_knn.TestKNN) ... ok\n",
      "test_iris_classification_loop (test_knn.TestKNN) ... FAIL\n",
      "test_iris_classification_numpy (test_knn.TestKNN) ... FAIL\n",
      "\n",
      "======================================================================\n",
      "FAIL: test_iris_classification_loop (test_knn.TestKNN)\n",
      "----------------------------------------------------------------------\n",
      "Traceback (most recent call last):\n",
      "  File \"/home/harleys/CS-2300/lab6/test_knn.py\", line 111, in test_iris_classification_loop\n",
      "    self.assertAlmostEqual(accuracy, 1.0)\n",
      "AssertionError: 0.92 != 1.0 within 7 places (0.07999999999999996 difference)\n",
      "\n",
      "======================================================================\n",
      "FAIL: test_iris_classification_numpy (test_knn.TestKNN)\n",
      "----------------------------------------------------------------------\n",
      "Traceback (most recent call last):\n",
      "  File \"/home/harleys/CS-2300/lab6/test_knn.py\", line 132, in test_iris_classification_numpy\n",
      "    self.assertAlmostEqual(accuracy, 1.0)\n",
      "AssertionError: 0.92 != 1.0 within 7 places (0.07999999999999996 difference)\n",
      "\n",
      "----------------------------------------------------------------------\n",
      "Ran 4 tests in 0.317s\n",
      "\n",
      "FAILED (failures=2)\n"
     ]
    },
    {
     "data": {
      "text/plain": [
       "<unittest.main.TestProgram at 0x7fc141a20c90>"
      ]
     },
     "execution_count": 3,
     "metadata": {},
     "output_type": "execute_result"
    }
   ],
   "source": [
    "unittest.main(argv=[''], verbosity=2, exit=False)"
   ]
  },
  {
   "cell_type": "markdown",
   "metadata": {},
   "source": [
    "**Creating training/testing sets**: The solution is trained on the entire dataset, which isn’t ideal and enables overfitting, so we need to fix that.  In this cell, I divide the iris data into training and testing sets."
   ]
  },
  {
   "cell_type": "code",
   "execution_count": 4,
   "metadata": {},
   "outputs": [],
   "source": [
    "data = iris.data[:,0:2]\n",
    "targets = [iris.target_names[0]]*50 + [iris.target_names[1]]*50 + [iris.target_names[2]]*50\n",
    "train_X, test_X, train_y, test_y = train_test_split(data, targets, stratify = targets)"
   ]
  },
  {
   "cell_type": "markdown",
   "metadata": {},
   "source": [
    "**Testing**: In this cell I use my kNN class to train only using the training dataset and classify the flowers by species using only the test dataset. I calculate the accuracy to compare the predicted labels to the known labels for the testing set. I do this for k values of 1-11. I run this cell using both the predict_loop() method and predict_numpy() method in order to compare their performance."
   ]
  },
  {
   "cell_type": "code",
   "execution_count": 5,
   "metadata": {},
   "outputs": [],
   "source": [
    "# %%time\n",
    "accuracy = pd.DataFrame(index=range(6),columns=range(2))\n",
    "accuracy.columns = [\"k-value\", \"accuracy\"]\n",
    "knn = KNN(0)\n",
    "knn.fit(train_X, train_y)\n",
    "index = 0\n",
    "for x in range(1,12,2):\n",
    "    knn.set_k(x)\n",
    "    pred_y = knn.predict_numpy(test_X)\n",
    "    acc = accuracy_score(test_y, pred_y)\n",
    "    accuracy.iloc[index,0] = x\n",
    "    accuracy.iloc[index,1] = acc\n",
    "    index += 1"
   ]
  },
  {
   "cell_type": "markdown",
   "metadata": {},
   "source": [
    "**Time Benchmarking**: When running the previous cell using the predict_loop() method, it took about 420 ms to complete. Compared to using the predict_numpy() method which took about 20 ms. The difference comes from the fact that predict_numpy() is using vectorized functions on numpy arrays which are very efficient. In comparison, predict_loop() is looping through the data which takes much longer."
   ]
  },
  {
   "cell_type": "markdown",
   "metadata": {},
   "source": [
    "**Plotting the accuracy results**: Since the training and testing data changes each run through, so do the accuracy results. This is a graph of one iteration of tests that I felt represented average-ish results."
   ]
  },
  {
   "cell_type": "code",
   "execution_count": 6,
   "metadata": {},
   "outputs": [
    {
     "data": {
      "image/png": "[encoded data removed]",
      "text/plain": [
       "<Figure size 432x288 with 1 Axes>"
      ]
     },
     "metadata": {
      "needs_background": "light"
     },
     "output_type": "display_data"
    }
   ],
   "source": [
    "fig2, axes2 = plt.subplots()\n",
    "axes2.plot(accuracy[\"k-value\"],accuracy[\"accuracy\"], \"r\")\n",
    "axes2.set_xlabel('K-value', fontsize=14)\n",
    "axes2.set_xticks(np.arange(1, 13, step=2))\n",
    "axes2.set_ylabel('Accuracy (%)', fontsize=14)\n",
    "axes2.set_title('K-value v. Accuracy', fontsize=20);"
   ]
  },
  {
   "cell_type": "markdown",
   "metadata": {},
   "source": [
    "### Conclusion\n",
    "\n",
    "a) Based on the scatter plot of the features, a short sepal length and longer sepal width seem to be characteristic of the setosa. The versicolor and virginica were very similar in that they both had a shorter sepal width and a longer sepal length. However, the virginica seemed to have a slighlty longer sepal length.\n",
    "\n",
    "b) The different k-values gave different accuracy results with each iteration. However, in general, the higher k-values gave better results. I found that the k-value of 9 seemed to on average give the best results.\n",
    "\n",
    "c) The main downside to the kNN mode is that it has a high memory requirement. To accurately classify data, you have to calculate the distance with every point in the dataset. This means the larger the datasets grow, the time to calculate increases exponentially. Also, the more memory it takes up. Today, much of classifying is done on images which take up a large amount of memory. For image recognition, it is much more efficient to use a deep learning model. As a side note, kNN doesn't actually learn anything, it just claassifies. So in order to improve the results, you have to increase the size of the dataset."
   ]
  }
 ],
 "metadata": {
  "kernelspec": {
   "display_name": "Python 3",
   "language": "python",
   "name": "python3"
  },
  "language_info": {
   "codemirror_mode": {
    "name": "ipython",
    "version": 3
   },
   "file_extension": ".py",
   "mimetype": "text/x-python",
   "name": "python",
   "nbconvert_exporter": "python",
   "pygments_lexer": "ipython3",
   "version": "3.7.6"
  }
 },
 "nbformat": 4,
 "nbformat_minor": 2
}
